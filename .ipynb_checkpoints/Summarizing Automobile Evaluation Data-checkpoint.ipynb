{
 "cells": [
  {
   "cell_type": "markdown",
   "id": "2157e584",
   "metadata": {},
   "source": [
    "### import contegencies"
   ]
  },
  {
   "cell_type": "code",
   "execution_count": 1,
   "id": "b852012c",
   "metadata": {},
   "outputs": [],
   "source": [
    "import pandas as pd\n",
    "import numpy as np"
   ]
  },
  {
   "cell_type": "markdown",
   "id": "23baf0f8",
   "metadata": {},
   "source": [
    "### inspect and arrange data"
   ]
  },
  {
   "cell_type": "code",
   "execution_count": 3,
   "id": "c1a3e4f1",
   "metadata": {},
   "outputs": [
    {
     "name": "stdout",
     "output_type": "stream",
     "text": [
      "  buying_cost maintenance_cost doors capacity luggage safety acceptability  \\\n",
      "0       vhigh              low     4        4   small    med         unacc   \n",
      "1       vhigh              med     3        4   small   high           acc   \n",
      "2         med             high     3        2     med   high         unacc   \n",
      "3         low              med     4     more     big    low         unacc   \n",
      "4         low             high     2     more     med   high           acc   \n",
      "\n",
      "  manufacturer_country  \n",
      "0                China  \n",
      "1               France  \n",
      "2        United States  \n",
      "3        United States  \n",
      "4          South Korea  \n"
     ]
    }
   ],
   "source": [
    "car_eval = pd.read_csv('car_eval_dataset.csv')\n",
    "print(car_eval.head())"
   ]
  },
  {
   "cell_type": "code",
   "execution_count": 5,
   "id": "cacab625",
   "metadata": {},
   "outputs": [
    {
     "name": "stdout",
     "output_type": "stream",
     "text": [
      "the country that appears the 4th most is United States\n",
      "22.8% of cars are manufactured in Japan\n",
      "['vhigh' 'med' 'low' 'high']\n"
     ]
    }
   ],
   "source": [
    "#  find manufacturer_country mode\n",
    "mode = car_eval[\"manufacturer_country\"].value_counts()\n",
    "print(\"the country that appears the 4th most is \" +str(car_eval[\"manufacturer_country\"][mode[3]]))\n",
    "# calculate proportions\n",
    "prop = car_eval[\"manufacturer_country\"].value_counts(normalize = True)\n",
    "print(str(prop[0]*100)+ \"% of cars are manufactured in Japan\")\n",
    "# getting possible buying prices of cars\n",
    "bp =car_eval.buying_cost.unique()\n",
    "print(bp) "
   ]
  },
  {
   "cell_type": "code",
   "execution_count": 6,
   "id": "8b214e0b",
   "metadata": {},
   "outputs": [
    {
     "name": "stdout",
     "output_type": "stream",
     "text": [
      "small    0.339\n",
      "med      0.333\n",
      "big      0.328\n",
      "Name: luggage, dtype: float64\n",
      "246\n",
      "0.246\n"
     ]
    }
   ],
   "source": [
    "# getting proportions without normalize\n",
    "lugprop_without_norm = car_eval[\"luggage\"].value_counts()/len(car_eval[\"luggage\"])\n",
    "print(lugprop_without_norm)\n",
    "# getting cars with more than 5 doors\n",
    "carwitmore5 = (car_eval.doors == '5more').sum()\n",
    "print(carwitmore5)\n",
    "more5_prop = (car_eval.doors == '5more').mean()\n",
    "print(more5_prop)"
   ]
  },
  {
   "cell_type": "code",
   "execution_count": null,
   "id": "7a6b1cb1",
   "metadata": {},
   "outputs": [],
   "source": []
  }
 ],
 "metadata": {
  "kernelspec": {
   "display_name": "Python 3",
   "language": "python",
   "name": "python3"
  },
  "language_info": {
   "codemirror_mode": {
    "name": "ipython",
    "version": 3
   },
   "file_extension": ".py",
   "mimetype": "text/x-python",
   "name": "python",
   "nbconvert_exporter": "python",
   "pygments_lexer": "ipython3",
   "version": "3.8.8"
  }
 },
 "nbformat": 4,
 "nbformat_minor": 5
}
